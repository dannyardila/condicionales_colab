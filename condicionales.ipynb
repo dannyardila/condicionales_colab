{
  "nbformat": 4,
  "nbformat_minor": 0,
  "metadata": {
    "colab": {
      "provenance": [],
      "authorship_tag": "ABX9TyPdP+lYSzPvrsRlSNn2669Q",
      "include_colab_link": true
    },
    "kernelspec": {
      "name": "python3",
      "display_name": "Python 3"
    },
    "language_info": {
      "name": "python"
    }
  },
  "cells": [
    {
      "cell_type": "markdown",
      "metadata": {
        "id": "view-in-github",
        "colab_type": "text"
      },
      "source": [
        "<a href=\"https://colab.research.google.com/github/dannyardila/condicionales_colab/blob/main/condicionales.ipynb\" target=\"_parent\"><img src=\"https://colab.research.google.com/assets/colab-badge.svg\" alt=\"Open In Colab\"/></a>"
      ]
    },
    {
      "cell_type": "code",
      "execution_count": 3,
      "metadata": {
        "colab": {
          "base_uri": "https://localhost:8080/",
          "height": 321
        },
        "id": "Yk1xDZcNorRd",
        "outputId": "262ec494-6b1f-4e67-c246-51e2d1541c3e"
      },
      "outputs": [
        {
          "name": "stdout",
          "output_type": "stream",
          "text": [
            "---------------------\n",
            "-------OBTENER LOS NUMEROS PARES-------\n",
            "-----------------------\n",
            "digite el valor de a: 2\n",
            "digite el valor de b :5\n"
          ]
        },
        {
          "output_type": "error",
          "ename": "KeyboardInterrupt",
          "evalue": "ignored",
          "traceback": [
            "\u001b[0;31m---------------------------------------------------------------------------\u001b[0m",
            "\u001b[0;31mKeyboardInterrupt\u001b[0m                         Traceback (most recent call last)",
            "\u001b[0;32m<ipython-input-3-26ea66736c2f>\u001b[0m in \u001b[0;36m<module>\u001b[0;34m\u001b[0m\n\u001b[1;32m     21\u001b[0m     \u001b[0;32mwhile\u001b[0m \u001b[0ma\u001b[0m \u001b[0;34m<=\u001b[0m \u001b[0mb\u001b[0m\u001b[0;34m:\u001b[0m\u001b[0;34m\u001b[0m\u001b[0;34m\u001b[0m\u001b[0m\n\u001b[1;32m     22\u001b[0m        \u001b[0mr\u001b[0m\u001b[0;34m=\u001b[0m \u001b[0ma\u001b[0m \u001b[0;34m%\u001b[0m \u001b[0;36m2\u001b[0m\u001b[0;34m\u001b[0m\u001b[0;34m\u001b[0m\u001b[0m\n\u001b[0;32m---> 23\u001b[0;31m        \u001b[0;32mif\u001b[0m \u001b[0;34m(\u001b[0m\u001b[0mr\u001b[0m\u001b[0;34m==\u001b[0m\u001b[0;36m0\u001b[0m\u001b[0;34m)\u001b[0m\u001b[0;34m:\u001b[0m\u001b[0;34m\u001b[0m\u001b[0;34m\u001b[0m\u001b[0m\n\u001b[0m\u001b[1;32m     24\u001b[0m         \u001b[0mcant_num\u001b[0m\u001b[0;34m=\u001b[0m\u001b[0mcant_num\u001b[0m\u001b[0;34m+\u001b[0m\u001b[0;36m1\u001b[0m\u001b[0;34m\u001b[0m\u001b[0;34m\u001b[0m\u001b[0m\n\u001b[1;32m     25\u001b[0m     \u001b[0ma\u001b[0m\u001b[0;34m=\u001b[0m\u001b[0ma\u001b[0m\u001b[0;34m+\u001b[0m\u001b[0;36m1\u001b[0m\u001b[0;34m\u001b[0m\u001b[0;34m\u001b[0m\u001b[0m\n",
            "\u001b[0;31mKeyboardInterrupt\u001b[0m: "
          ]
        }
      ],
      "source": [
        "# ejercicio con if else\n",
        "\n",
        "\"\"\"Dado un rango de números enteros obtener la\n",
        "cantidad de números pares que contiene.\"\"\"\n",
        "\n",
        "print(\"---------------------\")\n",
        "print(\"-------OBTENER LOS NUMEROS PARES-------\")\n",
        "print(\"-----------------------\")\n",
        "\n",
        "#Input\n",
        "\n",
        "a= int(input(\"digite el valor de a: \"))\n",
        "\n",
        "b= int(input(\"digite el valor de b :\"))\n",
        "\n",
        "#Proccesing\n",
        "\n",
        "if (a<b):\n",
        "    cant_num=0\n",
        "    a=a+1\n",
        "    while a <= b:\n",
        "       r= a % 2\n",
        "       if(r==0):\n",
        "        cant_num=cant_num+1\n",
        "    a=a+1\n",
        "    print(cant_num)\n",
        "\n",
        "# Output\n",
        "else:\n",
        "    print (\"a debe ser menor que b\")\n",
        "\n",
        "print (\"los valores son\",cant_num ) "
      ]
    },
    {
      "cell_type": "code",
      "source": [
        "#Input\n",
        "\n",
        "C = int (input(\"digite el valor de la cantidad de dinero: \"))\n",
        "\n",
        "\n",
        "D=2*C\n",
        "n=0\n",
        "#Proccesing\n",
        "\n",
        "while C<D:\n",
        "    C=C+0.05*C\n",
        "    n=n+1\n",
        "\n",
        "# Output\n",
        "else:\n",
        "    print (\"en %s se va a duplicar su inversion: \" % (n))\n",
        "\n",
        "  \n"
      ],
      "metadata": {
        "id": "IeG6zvCcqa-2"
      },
      "execution_count": null,
      "outputs": []
    },
    {
      "cell_type": "code",
      "source": [
        "# Ejercicio con elif\n",
        "\n",
        "\"\"\"Ejercicio 6:\n",
        "Programa para calcular las posibles\n",
        " soluciones de una ecuacion de segundo grado.\"\"\"\n",
        "\n",
        "print(\"-------------------------------------------------\")\n",
        "print(\"----------Soluciones de evcuaciones en segundo grado------------\")\n",
        "print(\"-------------------------------------------------\")\n",
        "\n",
        "# input\n",
        "\n",
        "print(\"ax^2+bx+c=0\")\n",
        "A=input(\"Digite el valor de A :\")\n",
        "A=int (A)\n",
        "B=input(\"Digite el valor de B :\")\n",
        "B=int (B)\n",
        "C=input(\"Digite el valor de C :\")\n",
        "C=int (C)\n",
        "\n",
        "import math\n",
        "\n",
        "# processing\n",
        "\n",
        "D=B**2-(4*A*C)\n",
        "\n",
        "if D<0:\n",
        "    print(\"No hay soluciones son raices imaginarias\")\n",
        "\n",
        "elif D==0:\n",
        "    X=-B/(2+A)\n",
        "    print (\"Tiene una unica solucion:\"+ str (X))\n",
        "    \n",
        "elif D>0:\n",
        "\n",
        "    X1=(-B+(D**0.5))/2*A\n",
        "    X2=(-B-(D**0.5))/2*A\n",
        "    print(\"Tiene dos soluciones X1 y X2\" )\n",
        "    print (\"X1: \"+ str (X1))\n",
        "    print (\"X2: \"+ str (X2))"
      ],
      "metadata": {
        "id": "4aVqb8YgrZCY"
      },
      "execution_count": null,
      "outputs": []
    },
    {
      "cell_type": "markdown",
      "source": [
        "# INSTRUCCIONES CONDICIONALES\n",
        "\n",
        "-if\n",
        "\n",
        "-if else\n",
        "\n",
        "-if else elif"
      ],
      "metadata": {
        "id": "QCfe0s_Sou4s"
      }
    }
  ]
}